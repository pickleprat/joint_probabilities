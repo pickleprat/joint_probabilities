{
 "cells": [
  {
   "cell_type": "markdown",
   "metadata": {},
   "source": [
    "<strong><h1>Probability in Python </h1></strong>\n",
    "<p>Trying to solve probabilty questions in python</p>\n"
   ]
  },
  {
   "cell_type": "code",
   "execution_count": 1,
   "metadata": {},
   "outputs": [
    {
     "name": "stdout",
     "output_type": "stream",
     "text": [
      "The distribution is Valid:  True\n",
      "\n",
      "\n",
      "   Marginal distribution of X\n"
     ]
    },
    {
     "data": {
      "text/html": [
       "<div>\n",
       "<style scoped>\n",
       "    .dataframe tbody tr th:only-of-type {\n",
       "        vertical-align: middle;\n",
       "    }\n",
       "\n",
       "    .dataframe tbody tr th {\n",
       "        vertical-align: top;\n",
       "    }\n",
       "\n",
       "    .dataframe thead th {\n",
       "        text-align: right;\n",
       "    }\n",
       "</style>\n",
       "<table border=\"1\" class=\"dataframe\">\n",
       "  <thead>\n",
       "    <tr style=\"text-align: right;\">\n",
       "      <th></th>\n",
       "      <th>X = 5</th>\n",
       "      <th>X = 8</th>\n",
       "    </tr>\n",
       "  </thead>\n",
       "  <tbody>\n",
       "    <tr>\n",
       "      <th>f x (X = x) =</th>\n",
       "      <td>0.428571</td>\n",
       "      <td>0.571429</td>\n",
       "    </tr>\n",
       "  </tbody>\n",
       "</table>\n",
       "</div>"
      ],
      "text/plain": [
       "                   X = 5     X = 8\n",
       "f x (X = x) =   0.428571  0.571429"
      ]
     },
     "execution_count": 1,
     "metadata": {},
     "output_type": "execute_result"
    }
   ],
   "source": [
    "#Creating a probability density function \n",
    "\n",
    "#Question 1: \n",
    "import pandas as pd \n",
    "from DiscreteDistribution import DiscreteProbability\n",
    "\n",
    "def probability_function(X:int, Y:int):\n",
    "    if X not in [5, 8] and Y not in [0, 3, 4]:\n",
    "        return 0 \n",
    "\n",
    "    elif X == 5 or ((X==8) & (Y == 4)):\n",
    "        return (1/7)\n",
    "\n",
    "    elif X==8 and Y==0:\n",
    "        return (3/7)\n",
    "\n",
    "    else: return 0 \n",
    "\n",
    "\n",
    "#Ensuring the validity of the distribution function \n",
    "\n",
    "dist = DiscreteProbability(phi=probability_function, X_vals=[5, 8], Y_vals=[0, 3, 4])\n",
    "\n",
    "print(\"The distribution is Valid: \", dist.validity()) #Returns true if the density function is a valid one. \n",
    "\n",
    "#The marginal probability distribution of X \n",
    "\n",
    "print(\"\\n\\n   Marginal distribution of X\")\n",
    "\n",
    "dist.margDistX()\n"
   ]
  },
  {
   "cell_type": "code",
   "execution_count": 2,
   "metadata": {},
   "outputs": [
    {
     "data": {
      "text/html": [
       "<div>\n",
       "<style scoped>\n",
       "    .dataframe tbody tr th:only-of-type {\n",
       "        vertical-align: middle;\n",
       "    }\n",
       "\n",
       "    .dataframe tbody tr th {\n",
       "        vertical-align: top;\n",
       "    }\n",
       "\n",
       "    .dataframe thead th {\n",
       "        text-align: right;\n",
       "    }\n",
       "</style>\n",
       "<table border=\"1\" class=\"dataframe\">\n",
       "  <thead>\n",
       "    <tr style=\"text-align: right;\">\n",
       "      <th></th>\n",
       "      <th>Y = 0</th>\n",
       "      <th>Y = 3</th>\n",
       "      <th>Y = 4</th>\n",
       "    </tr>\n",
       "  </thead>\n",
       "  <tbody>\n",
       "    <tr>\n",
       "      <th>f y (Y = y) =</th>\n",
       "      <td>0.571429</td>\n",
       "      <td>0.142857</td>\n",
       "      <td>0.285714</td>\n",
       "    </tr>\n",
       "  </tbody>\n",
       "</table>\n",
       "</div>"
      ],
      "text/plain": [
       "                   Y = 0     Y = 3     Y = 4\n",
       "f y (Y = y) =   0.571429  0.142857  0.285714"
      ]
     },
     "execution_count": 2,
     "metadata": {},
     "output_type": "execute_result"
    }
   ],
   "source": [
    "#Marginal probability distribution of Y \n",
    "\n",
    "dist.margDistY()"
   ]
  },
  {
   "cell_type": "code",
   "execution_count": 3,
   "metadata": {},
   "outputs": [
    {
     "data": {
      "text/html": [
       "<div>\n",
       "<style scoped>\n",
       "    .dataframe tbody tr th:only-of-type {\n",
       "        vertical-align: middle;\n",
       "    }\n",
       "\n",
       "    .dataframe tbody tr th {\n",
       "        vertical-align: top;\n",
       "    }\n",
       "\n",
       "    .dataframe thead th {\n",
       "        text-align: right;\n",
       "    }\n",
       "</style>\n",
       "<table border=\"1\" class=\"dataframe\">\n",
       "  <thead>\n",
       "    <tr style=\"text-align: right;\">\n",
       "      <th></th>\n",
       "      <th>Y = 0</th>\n",
       "      <th>Y = 3</th>\n",
       "      <th>Y = 4</th>\n",
       "    </tr>\n",
       "  </thead>\n",
       "  <tbody>\n",
       "    <tr>\n",
       "      <th>given X = 5</th>\n",
       "      <td>0.333333</td>\n",
       "      <td>0.333333</td>\n",
       "      <td>0.333333</td>\n",
       "    </tr>\n",
       "    <tr>\n",
       "      <th>given X = 8</th>\n",
       "      <td>0.750000</td>\n",
       "      <td>0.000000</td>\n",
       "      <td>0.250000</td>\n",
       "    </tr>\n",
       "  </tbody>\n",
       "</table>\n",
       "</div>"
      ],
      "text/plain": [
       "                Y = 0     Y = 3     Y = 4\n",
       "given X = 5  0.333333  0.333333  0.333333\n",
       "given X = 8  0.750000  0.000000  0.250000"
      ]
     },
     "execution_count": 3,
     "metadata": {},
     "output_type": "execute_result"
    }
   ],
   "source": [
    "#Condition distribution \n",
    "\n",
    "dist.condDistX()"
   ]
  },
  {
   "cell_type": "code",
   "execution_count": 4,
   "metadata": {},
   "outputs": [
    {
     "data": {
      "text/html": [
       "<div>\n",
       "<style scoped>\n",
       "    .dataframe tbody tr th:only-of-type {\n",
       "        vertical-align: middle;\n",
       "    }\n",
       "\n",
       "    .dataframe tbody tr th {\n",
       "        vertical-align: top;\n",
       "    }\n",
       "\n",
       "    .dataframe thead th {\n",
       "        text-align: right;\n",
       "    }\n",
       "</style>\n",
       "<table border=\"1\" class=\"dataframe\">\n",
       "  <thead>\n",
       "    <tr style=\"text-align: right;\">\n",
       "      <th></th>\n",
       "      <th>X = 5</th>\n",
       "      <th>X = 8</th>\n",
       "    </tr>\n",
       "  </thead>\n",
       "  <tbody>\n",
       "    <tr>\n",
       "      <th>given Y = 0</th>\n",
       "      <td>0.25</td>\n",
       "      <td>0.75</td>\n",
       "    </tr>\n",
       "    <tr>\n",
       "      <th>given Y = 3</th>\n",
       "      <td>1.00</td>\n",
       "      <td>0.00</td>\n",
       "    </tr>\n",
       "    <tr>\n",
       "      <th>given Y = 4</th>\n",
       "      <td>0.50</td>\n",
       "      <td>0.50</td>\n",
       "    </tr>\n",
       "  </tbody>\n",
       "</table>\n",
       "</div>"
      ],
      "text/plain": [
       "             X = 5  X = 8\n",
       "given Y = 0   0.25   0.75\n",
       "given Y = 3   1.00   0.00\n",
       "given Y = 4   0.50   0.50"
      ]
     },
     "execution_count": 4,
     "metadata": {},
     "output_type": "execute_result"
    }
   ],
   "source": [
    "\n",
    "dist.condDistY()"
   ]
  },
  {
   "cell_type": "code",
   "execution_count": 5,
   "metadata": {},
   "outputs": [
    {
     "name": "stdout",
     "output_type": "stream",
     "text": [
      "The expected Value of X : 6.7142857142857135\n",
      "The expected Value of Y : 1.5714285714285714\n",
      "The Variance Value of X : 2.2040816326530717\n",
      "The Variance Value of Y : 3.387755102040816\n",
      "The standard Devit of X : 1.4846149779161841\n",
      "The standard Devit of Y : 1.8405855323893037\n",
      "The Covariance of X Y   : -0.979591836734695\n"
     ]
    }
   ],
   "source": [
    "print(dist)"
   ]
  },
  {
   "cell_type": "code",
   "execution_count": 6,
   "metadata": {},
   "outputs": [
    {
     "data": {
      "text/plain": [
       "The expected Value of X : 0.583333333333333\n",
       "The expected Value of Y : 0.793650793650794\n",
       "The Variance Value of X : 0.0819444444444444\n",
       "The Variance Value of Y : 0.0367850844041320\n",
       "The standard Devit of X : 0.286259400621961\n",
       "The standard Devit of Y : 0.191794380533247\n",
       "The Covariance of X Y   : -0.0105820105820106"
      ]
     },
     "execution_count": 6,
     "metadata": {},
     "output_type": "execute_result"
    }
   ],
   "source": [
    "from ContinousExperiment import ContinousProbability\n",
    "import sympy as smp \n",
    "\n",
    "x, y = smp.symbols(\"x y\", real=True)\n",
    "f = 2*(x**2)*y + 4*(y**5) \n",
    "\n",
    "\n",
    "clf = ContinousProbability(f, [0, 1], [0, 1])\n",
    "\n",
    "clf"
   ]
  },
  {
   "cell_type": "code",
   "execution_count": 7,
   "metadata": {},
   "outputs": [
    {
     "data": {
      "text/latex": [
       "$\\displaystyle 0.239$"
      ],
      "text/plain": [
       "0.239000000000000"
      ]
     },
     "execution_count": 7,
     "metadata": {},
     "output_type": "execute_result"
    }
   ],
   "source": [
    "#The marginal Probabilities of X \n",
    "\n",
    "clf.margX([0.2, 0.5])\n"
   ]
  },
  {
   "cell_type": "code",
   "execution_count": 8,
   "metadata": {},
   "outputs": [
    {
     "data": {
      "text/latex": [
       "$\\displaystyle 0.148016$"
      ],
      "text/plain": [
       "0.148016000000000"
      ]
     },
     "execution_count": 8,
     "metadata": {},
     "output_type": "execute_result"
    }
   ],
   "source": [
    "#Marginal Probability of Y \n",
    "\n",
    "clf.margY([0.5, 0.7])"
   ]
  },
  {
   "cell_type": "code",
   "execution_count": 9,
   "metadata": {},
   "outputs": [
    {
     "data": {
      "text/latex": [
       "$\\displaystyle 0.477607142857143$"
      ],
      "text/plain": [
       "0.477607142857143"
      ]
     },
     "execution_count": 9,
     "metadata": {},
     "output_type": "execute_result"
    }
   ],
   "source": [
    "#Conditional Probability of Y given X \n",
    "clf.condX([0.6, 0.9], [0.2, 0.6])"
   ]
  },
  {
   "cell_type": "code",
   "execution_count": 10,
   "metadata": {},
   "outputs": [
    {
     "data": {
      "text/latex": [
       "$\\displaystyle 0.183007288070579$"
      ],
      "text/plain": [
       "0.183007288070579"
      ]
     },
     "execution_count": 10,
     "metadata": {},
     "output_type": "execute_result"
    }
   ],
   "source": [
    "#Conditonal Probability Of X given Y \n",
    "clf.condY([0.2, 0.5], [0.5, 0.6])"
   ]
  },
  {
   "cell_type": "code",
   "execution_count": 11,
   "metadata": {},
   "outputs": [
    {
     "data": {
      "text/plain": [
       "The expected Value of X : 0.583333333333333\n",
       "The expected Value of Y : 0.793650793650794\n",
       "The Variance Value of X : 0.0819444444444444\n",
       "The Variance Value of Y : 0.0367850844041320\n",
       "The standard Devit of X : 0.286259400621961\n",
       "The standard Devit of Y : 0.191794380533247\n",
       "The Covariance of X Y   : -0.0105820105820106"
      ]
     },
     "execution_count": 11,
     "metadata": {},
     "output_type": "execute_result"
    }
   ],
   "source": [
    "clf"
   ]
  },
  {
   "cell_type": "code",
   "execution_count": null,
   "metadata": {},
   "outputs": [],
   "source": []
  },
  {
   "cell_type": "code",
   "execution_count": null,
   "metadata": {},
   "outputs": [],
   "source": []
  },
  {
   "cell_type": "code",
   "execution_count": null,
   "metadata": {},
   "outputs": [],
   "source": []
  }
 ],
 "metadata": {
  "kernelspec": {
   "display_name": "nlp",
   "language": "python",
   "name": "nlp"
  },
  "language_info": {
   "codemirror_mode": {
    "name": "ipython",
    "version": 3
   },
   "file_extension": ".py",
   "mimetype": "text/x-python",
   "name": "python",
   "nbconvert_exporter": "python",
   "pygments_lexer": "ipython3",
   "version": "3.9.12"
  },
  "orig_nbformat": 4,
  "vscode": {
   "interpreter": {
    "hash": "63963b3f4c440940f0b94a3100916033a226cb4f45979123153792d60aa56d6a"
   }
  }
 },
 "nbformat": 4,
 "nbformat_minor": 2
}
